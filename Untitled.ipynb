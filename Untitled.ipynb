{
 "cells": [
  {
   "cell_type": "code",
   "execution_count": 1,
   "id": "ecdffb6d",
   "metadata": {},
   "outputs": [],
   "source": [
    "import requests \n",
    "from requests_html import HTMLSession\n",
    "from selenium import webdriver\n",
    "from bs4 import BeautifulSoup\n",
    "import pandas as pd"
   ]
  },
  {
   "cell_type": "code",
   "execution_count": 3,
   "id": "26d35faf",
   "metadata": {},
   "outputs": [],
   "source": [
    "url = 'https://medium.com/@nekeishapope/the-power-of-data-analysis-146551c3bbab'\n",
    "response = requests.get(url)\n",
    "soup = BeautifulSoup(response.content, 'html.parser')\n",
    "#page_title = soup.find_all(\"p\", class_=\"pw-post-body-paragraph wq wr rd mz b rw ws wt wu rz wv ww wx mj wy wz xa mo xb xc xd mt xe xf xg xh ju bp\")\n",
    "for element in soup(['script', 'style', 'comment']):\n",
    "    element.extract()\n",
    "text = soup.get_text(separator=' ')\n",
    "def find_words(text, word):\n",
    "    words = soup.find_all(text=lambda text: text and word in text)\n",
    "    print(words)\n",
    "    return len(words)\n",
    "\n",
    "find_words('url', 'Tableau')\n",
    "print(text)"
   ]
  },
  {
   "cell_type": "code",
   "execution_count": null,
   "id": "6ed968a2",
   "metadata": {},
   "outputs": [],
   "source": []
  },
  {
   "cell_type": "code",
   "execution_count": null,
   "id": "5d58039d",
   "metadata": {},
   "outputs": [],
   "source": []
  }
 ],
 "metadata": {
  "kernelspec": {
   "display_name": "Python 3 (ipykernel)",
   "language": "python",
   "name": "python3"
  },
  "language_info": {
   "codemirror_mode": {
    "name": "ipython",
    "version": 3
   },
   "file_extension": ".py",
   "mimetype": "text/x-python",
   "name": "python",
   "nbconvert_exporter": "python",
   "pygments_lexer": "ipython3",
   "version": "3.11.3"
  }
 },
 "nbformat": 4,
 "nbformat_minor": 5
}
