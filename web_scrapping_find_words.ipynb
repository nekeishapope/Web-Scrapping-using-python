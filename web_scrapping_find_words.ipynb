{
 "cells": [
  {
   "cell_type": "code",
   "execution_count": 3,
   "id": "0331266b",
   "metadata": {},
   "outputs": [],
   "source": [
    "import requests \n",
    "from requests_html import HTMLSession\n",
    "from selenium import webdriver\n",
    "from bs4 import BeautifulSoup\n",
    "import pandas as pd"
   ]
  },
  {
   "cell_type": "code",
   "execution_count": 2,
   "id": "762cfa48",
   "metadata": {},
   "outputs": [
    {
     "name": "stdout",
     "output_type": "stream",
     "text": [
      "Can ChatGPT Write Better SQL than a Data Analyst? | by Marie Truong | Towards Data Science Open in app Sign up Sign In Write Sign up Sign In Member-only story Can ChatGPT Write Better SQL than a Data Analyst? Marie Truong · Follow Published in Towards Data Science · 6 min read · Jan 5 -- 86 Share Photo by  DeepMind  on  Unsplash I tried  ChatGPT , a variant of the GPT-3 language model that is specifically designed for generating human-like text in a conversational context. And of course, like most of us, I wondered: can an AI do my job? And can it do it better than me? I have 2 years of experience working as a Data Analyst and an Analytics Engineer. According to  BBC Science Focus , ChatGPT has ingested 570 GB of data. So who writes better SQL? Let’s play! This game will be based on 3 LeetCode SQL challenges (one easy, two medium). I will write every solution first, and then send the exercise to ChatGPT and see which solution works best. I will provide links to every challenge so you can try as well to beat ChatGPT. Challenge 1 (Easy) This challenge is called  Customer placing the largest number of orders . Screenshot by Author Here is the query I wrote: WITH layer_1 AS (   SELECT      customer_number, COUNT(DISTINCT order_number) AS order_number   FROM orders   GROUP BY customer_number ) SELECT customer_number  FROM layer_1 ORDER BY order_number DESC  LIMIT 1 It passed with a correct runtime: Screenshot by Author Now let’s see how ChatGPT performs on this one. Here is what ChatGPT answered: Screenshot by Author ChatGPT even explains what it did. I don’t find the query very readable — one of the reasons why I love common table expressions is readability — but let’s see how it performs. -- -- 86 Follow Written by  Marie Truong 2.1K Followers · Writer for  Towards Data Science Analytics Engineer @Scopely | Python | SQL Follow More from  Marie Truong  and Towards Data Science Marie Truong in Towards Data Science How to Build an ELT with Python Extracting, Loading and Transforming Data · 7 min read · Feb 7 -- 6 Miriam Santos in Towards Data Science Pandas 2.0: A Game-Changer for Data Scientists? The Top 5 Features for Efficient Data Manipulation 7 min read · Jun 27 -- 17 Dominik Polzer in Towards Data Science All You Need to Know to Build Your First LLM App A step-by-step tutorial to document loaders, embeddings, vector stores and prompt templates · 26 min read · Jun 22 -- 19 Marie Truong in Better Programming Are You Making These SQL Join Mistakes? Two common mistakes and how to avoid them · 3 min read · Oct 27, 2022 -- 2 See all from  Marie Truong See all from  Towards Data Science Recommended from Medium Zach Quinn in Pipeline: Your Data Engineering Resource Creating The Dashboard That Got Me A Data Analyst Job Offer A walkthrough of the Udemy dashboard that got me a job offer from one of the biggest names in academic publishing. · 9 min read · Dec 5, 2022 -- 20 Youssef Hosni in Level Up Coding 13 SQL Statements for 90% of Your Data Science Tasks Structured Query Language (SQL) is a programming language designed for managing and manipulating relational databases. It is widely used by… · 15 min read · Feb 27 -- 33 Lists The New Chatbots: ChatGPT, Bard, and Beyond 13 stories · 43   saves What is ChatGPT? 9 stories · 129   saves Now in AI: Handpicked by Better Programming 249 stories · 33   saves Generative AI Recommended Reading 52 stories · 62   saves Matt Chapman in Towards Data Science The Portfolio that Got Me a Data Scientist Job Spoiler alert: It was surprisingly easy (and free) to make · 10 min read · Mar 24 -- 58 The PyCoach in Artificial Corner You’re Using ChatGPT Wrong! Here’s How to Be Ahead of 99% of ChatGPT Users Master ChatGPT by learning prompt engineering. · 7 min read · Mar 17 -- 486 Love Sharma in ByteByteGo System Design Alliance System Design Blueprint: The Ultimate Guide Developing a robust, scalable, and efficient system can be daunting. However, understanding the key concepts and components can make the… · 9 min read · Apr 20 -- 49 Zach Quinn in Pipeline: Your Data Engineering Resource 3 Data Science Projects That Got Me 12 Interviews. And 1 That Got Me in Trouble. 3 work samples that got my foot in the door, and 1 that almost got me tossed out. · 7 min read · Aug 29, 2022 -- 46 See more recommendations Help Status Writers Blog Careers Privacy Terms About Text to speech Teams \n",
      " \n",
      " \n",
      " \n",
      " \n",
      " \n",
      " \n",
      " \n",
      " \n",
      " \n",
      " \n",
      " \n",
      " \n",
      " \n",
      " \n",
      " \n",
      " \n",
      " \n",
      " \n",
      " \n",
      " \n",
      " \n",
      " \n",
      " \n",
      " \n",
      " \n",
      " \n",
      " \n",
      " \n",
      " \n",
      " \n",
      " \n",
      " \n",
      "\n"
     ]
    }
   ],
   "source": [
    "# Make the HTTP request\n",
    "url = 'https://medium.com/towards-data-science/can-chatgpt-write-better-sql-than-a-data-analyst-f079518efab2'\n",
    "response = requests.get(url)\n",
    "\n",
    "# Parse the HTML content with Beautiful Soup\n",
    "soup = BeautifulSoup(response.content, 'html.parser')\n",
    "\n",
    "# Remove unwanted elements (script, style, comments, etc.)\n",
    "for element in soup(['script', 'style', 'comment']):\n",
    "    element.extract()\n",
    "\n",
    "# Extract the visible text\n",
    "text = soup.get_text(separator=' ')\n",
    "\n",
    "# Print the extracted text\n",
    "print(text)"
   ]
  },
  {
   "cell_type": "markdown",
   "id": "b4f778e9",
   "metadata": {},
   "source": [
    "*Create a function to find specific words in a blodpost*"
   ]
  },
  {
   "cell_type": "code",
   "execution_count": 14,
   "id": "02a0a126",
   "metadata": {},
   "outputs": [
    {
     "name": "stderr",
     "output_type": "stream",
     "text": [
      "/var/folders/sn/9ptkb2351dq5w64d5x51dzh40000gn/T/ipykernel_76645/3361731044.py:9: DeprecationWarning: The 'text' argument to find()-type methods is deprecated. Use 'string' instead.\n",
      "  words = soup.find_all(text=lambda text: text and word in text)\n"
     ]
    },
    {
     "data": {
      "text/plain": [
       "['Data Analysis Using Tableau: Unleashing the Power of Visual Insights | by Nekeishapope | Jul, 2023 | Medium',\n",
       " 'Data Analysis Using Tableau: Unleashing the Power of Visual Insights',\n",
       " 'Visualize your data using Tableau',\n",
       " 'In the realm of data analysis, visualizing data is a crucial step in uncovering meaningful insights and communicating complex information effectively. Tableau, a powerful and widely-used data visualization tool, empowers analysts to explore data, create interactive visualizations, and gain deep insights in a user-friendly manner. In this blog post, we will explore how Tableau can revolutionize data analysis by enabling users to transform raw data into visually compelling stories.',\n",
       " 'Both are great options however, there are some limitations with the free version. Tableau public only offers cloud storage and limitations to the datasets you can connect to. There are two ways you can use tableau. You can use the web version or you can download the software on your computer.',\n",
       " 'The “Tables” section refers to a feature within the software where you can view and manage the tables or datasets that you have connected to your Tableau workbook. It provides a way to explore and analyze the data within those tables.',\n",
       " 'In Tableau, dimensions and measures are two fundamental concepts used to analyze and visualize data.',\n",
       " 'Tableau supports several data types to accurately represent and analyze different kinds of data. The following are the commonly used data types in Tableau:',\n",
       " 'These data types in Tableau ensure that the data is properly interpreted, sorted, and analyzed according to its nature. When connecting to a data source in Tableau, it automatically assigns data types based on the inferred type from the source, but you can manually adjust the data types as needed to ensure accurate analysis and visualization.',\n",
       " 'Tableau']"
      ]
     },
     "execution_count": 14,
     "metadata": {},
     "output_type": "execute_result"
    }
   ],
   "source": [
    "url = 'https://medium.com/@nekeishapope/the-power-of-data-analysis-146551c3bbab'\n",
    "response = requests.get(url)\n",
    "soup = BeautifulSoup(response.content, 'html.parser')\n",
    "#page_title = soup.find_all(\"p\", class_=\"pw-post-body-paragraph wq wr rd mz b rw ws wt wu rz wv ww wx mj wy wz xa mo xb xc xd mt xe xf xg xh ju bp\")\n",
    "for element in soup(['script', 'style', 'comment']):\n",
    "    element.extract()\n",
    "text = soup.get_text(separator=' ')\n",
    "def find_words(text, word):\n",
    "    words = soup.find_all(text=lambda text: text and word in text)\n",
    "    #print(words)\n",
    "    return words\n",
    "\n",
    "find_words('url', 'Tableau')\n",
    "#print(text)"
   ]
  },
  {
   "cell_type": "code",
   "execution_count": null,
   "id": "46680df8",
   "metadata": {},
   "outputs": [],
   "source": []
  }
 ],
 "metadata": {
  "kernelspec": {
   "display_name": "Python 3 (ipykernel)",
   "language": "python",
   "name": "python3"
  },
  "language_info": {
   "codemirror_mode": {
    "name": "ipython",
    "version": 3
   },
   "file_extension": ".py",
   "mimetype": "text/x-python",
   "name": "python",
   "nbconvert_exporter": "python",
   "pygments_lexer": "ipython3",
   "version": "3.11.3"
  }
 },
 "nbformat": 4,
 "nbformat_minor": 5
}
